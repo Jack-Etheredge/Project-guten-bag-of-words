{
 "cells": [
  {
   "cell_type": "markdown",
   "metadata": {
    "run_control": {
     "frozen": false,
     "read_only": false
    }
   },
   "source": [
    "## Downloading and cleaning some books:"
   ]
  },
  {
   "cell_type": "code",
   "execution_count": 1,
   "metadata": {
    "ExecuteTime": {
     "end_time": "2018-06-03T18:41:40.820831Z",
     "start_time": "2018-06-03T18:41:40.194054Z"
    }
   },
   "outputs": [],
   "source": [
    "import urllib.request\n",
    "import re\n",
    "import numpy as np\n",
    "import pandas as pd\n",
    "import feather"
   ]
  },
  {
   "cell_type": "code",
   "execution_count": 2,
   "metadata": {
    "ExecuteTime": {
     "end_time": "2018-06-03T18:41:48.897867Z",
     "start_time": "2018-06-03T18:41:40.822534Z"
    }
   },
   "outputs": [],
   "source": [
    "books = pd.read_csv('books.csv', encoding='latin-1')"
   ]
  },
  {
   "cell_type": "code",
   "execution_count": 3,
   "metadata": {
    "ExecuteTime": {
     "end_time": "2018-06-03T18:41:48.917393Z",
     "start_time": "2018-06-03T18:41:48.899502Z"
    }
   },
   "outputs": [
    {
     "data": {
      "text/html": [
       "<div>\n",
       "<style scoped>\n",
       "    .dataframe tbody tr th:only-of-type {\n",
       "        vertical-align: middle;\n",
       "    }\n",
       "\n",
       "    .dataframe tbody tr th {\n",
       "        vertical-align: top;\n",
       "    }\n",
       "\n",
       "    .dataframe thead th {\n",
       "        text-align: right;\n",
       "    }\n",
       "</style>\n",
       "<table border=\"1\" class=\"dataframe\">\n",
       "  <thead>\n",
       "    <tr style=\"text-align: right;\">\n",
       "      <th></th>\n",
       "      <th>gutenberg_id</th>\n",
       "      <th>text</th>\n",
       "      <th>title</th>\n",
       "      <th>author</th>\n",
       "    </tr>\n",
       "  </thead>\n",
       "  <tbody>\n",
       "    <tr>\n",
       "      <th>0</th>\n",
       "      <td>11</td>\n",
       "      <td>ALICE'S ADVENTURES IN WONDERLAND</td>\n",
       "      <td>Alice's Adventures in Wonderland</td>\n",
       "      <td>Carroll, Lewis</td>\n",
       "    </tr>\n",
       "    <tr>\n",
       "      <th>1</th>\n",
       "      <td>11</td>\n",
       "      <td>NaN</td>\n",
       "      <td>Alice's Adventures in Wonderland</td>\n",
       "      <td>Carroll, Lewis</td>\n",
       "    </tr>\n",
       "    <tr>\n",
       "      <th>2</th>\n",
       "      <td>11</td>\n",
       "      <td>Lewis Carroll</td>\n",
       "      <td>Alice's Adventures in Wonderland</td>\n",
       "      <td>Carroll, Lewis</td>\n",
       "    </tr>\n",
       "    <tr>\n",
       "      <th>3</th>\n",
       "      <td>11</td>\n",
       "      <td>NaN</td>\n",
       "      <td>Alice's Adventures in Wonderland</td>\n",
       "      <td>Carroll, Lewis</td>\n",
       "    </tr>\n",
       "    <tr>\n",
       "      <th>4</th>\n",
       "      <td>11</td>\n",
       "      <td>THE MILLENNIUM FULCRUM EDITION 3.0</td>\n",
       "      <td>Alice's Adventures in Wonderland</td>\n",
       "      <td>Carroll, Lewis</td>\n",
       "    </tr>\n",
       "  </tbody>\n",
       "</table>\n",
       "</div>"
      ],
      "text/plain": [
       "   gutenberg_id                                text  \\\n",
       "0            11    ALICE'S ADVENTURES IN WONDERLAND   \n",
       "1            11                                 NaN   \n",
       "2            11                       Lewis Carroll   \n",
       "3            11                                 NaN   \n",
       "4            11  THE MILLENNIUM FULCRUM EDITION 3.0   \n",
       "\n",
       "                              title          author  \n",
       "0  Alice's Adventures in Wonderland  Carroll, Lewis  \n",
       "1  Alice's Adventures in Wonderland  Carroll, Lewis  \n",
       "2  Alice's Adventures in Wonderland  Carroll, Lewis  \n",
       "3  Alice's Adventures in Wonderland  Carroll, Lewis  \n",
       "4  Alice's Adventures in Wonderland  Carroll, Lewis  "
      ]
     },
     "execution_count": 3,
     "metadata": {},
     "output_type": "execute_result"
    }
   ],
   "source": [
    "books.head()"
   ]
  },
  {
   "cell_type": "code",
   "execution_count": 4,
   "metadata": {
    "ExecuteTime": {
     "end_time": "2018-06-03T18:41:51.477016Z",
     "start_time": "2018-06-03T18:41:48.919505Z"
    }
   },
   "outputs": [],
   "source": [
    "books = books.fillna('')\n",
    "books[['text','title']].head()"
   ]
  },
  {
   "cell_type": "code",
   "execution_count": 8,
   "metadata": {
    "ExecuteTime": {
     "end_time": "2018-06-03T18:43:26.285825Z",
     "start_time": "2018-06-03T18:43:21.932603Z"
    }
   },
   "outputs": [],
   "source": [
    "books[['text', 'title', 'author']] = books[['text', 'title', 'author']].astype(str)\n",
    "books = books.fillna('')"
   ]
  },
  {
   "cell_type": "code",
   "execution_count": 9,
   "metadata": {
    "ExecuteTime": {
     "end_time": "2018-06-03T18:43:26.297745Z",
     "start_time": "2018-06-03T18:43:26.287476Z"
    }
   },
   "outputs": [
    {
     "data": {
      "text/html": [
       "<div>\n",
       "<style scoped>\n",
       "    .dataframe tbody tr th:only-of-type {\n",
       "        vertical-align: middle;\n",
       "    }\n",
       "\n",
       "    .dataframe tbody tr th {\n",
       "        vertical-align: top;\n",
       "    }\n",
       "\n",
       "    .dataframe thead th {\n",
       "        text-align: right;\n",
       "    }\n",
       "</style>\n",
       "<table border=\"1\" class=\"dataframe\">\n",
       "  <thead>\n",
       "    <tr style=\"text-align: right;\">\n",
       "      <th></th>\n",
       "      <th>gutenberg_id</th>\n",
       "      <th>text</th>\n",
       "      <th>title</th>\n",
       "      <th>author</th>\n",
       "    </tr>\n",
       "  </thead>\n",
       "  <tbody>\n",
       "    <tr>\n",
       "      <th>0</th>\n",
       "      <td>11</td>\n",
       "      <td>ALICE'S ADVENTURES IN WONDERLAND</td>\n",
       "      <td>Alice's Adventures in Wonderland</td>\n",
       "      <td>Carroll, Lewis</td>\n",
       "    </tr>\n",
       "    <tr>\n",
       "      <th>1</th>\n",
       "      <td>11</td>\n",
       "      <td></td>\n",
       "      <td>Alice's Adventures in Wonderland</td>\n",
       "      <td>Carroll, Lewis</td>\n",
       "    </tr>\n",
       "    <tr>\n",
       "      <th>2</th>\n",
       "      <td>11</td>\n",
       "      <td>Lewis Carroll</td>\n",
       "      <td>Alice's Adventures in Wonderland</td>\n",
       "      <td>Carroll, Lewis</td>\n",
       "    </tr>\n",
       "    <tr>\n",
       "      <th>3</th>\n",
       "      <td>11</td>\n",
       "      <td></td>\n",
       "      <td>Alice's Adventures in Wonderland</td>\n",
       "      <td>Carroll, Lewis</td>\n",
       "    </tr>\n",
       "    <tr>\n",
       "      <th>4</th>\n",
       "      <td>11</td>\n",
       "      <td>THE MILLENNIUM FULCRUM EDITION 3.0</td>\n",
       "      <td>Alice's Adventures in Wonderland</td>\n",
       "      <td>Carroll, Lewis</td>\n",
       "    </tr>\n",
       "  </tbody>\n",
       "</table>\n",
       "</div>"
      ],
      "text/plain": [
       "   gutenberg_id                                text  \\\n",
       "0            11    ALICE'S ADVENTURES IN WONDERLAND   \n",
       "1            11                                       \n",
       "2            11                       Lewis Carroll   \n",
       "3            11                                       \n",
       "4            11  THE MILLENNIUM FULCRUM EDITION 3.0   \n",
       "\n",
       "                              title          author  \n",
       "0  Alice's Adventures in Wonderland  Carroll, Lewis  \n",
       "1  Alice's Adventures in Wonderland  Carroll, Lewis  \n",
       "2  Alice's Adventures in Wonderland  Carroll, Lewis  \n",
       "3  Alice's Adventures in Wonderland  Carroll, Lewis  \n",
       "4  Alice's Adventures in Wonderland  Carroll, Lewis  "
      ]
     },
     "execution_count": 9,
     "metadata": {},
     "output_type": "execute_result"
    }
   ],
   "source": [
    "books.head()"
   ]
  },
  {
   "cell_type": "code",
   "execution_count": 10,
   "metadata": {
    "ExecuteTime": {
     "end_time": "2018-06-03T18:43:30.790091Z",
     "start_time": "2018-06-03T18:43:30.451980Z"
    }
   },
   "outputs": [],
   "source": [
    "book_titles = books['title'].unique()"
   ]
  },
  {
   "cell_type": "code",
   "execution_count": 11,
   "metadata": {
    "ExecuteTime": {
     "end_time": "2018-06-03T18:43:30.794637Z",
     "start_time": "2018-06-03T18:43:30.791838Z"
    }
   },
   "outputs": [],
   "source": [
    "book_titles = list(book_titles)"
   ]
  },
  {
   "cell_type": "code",
   "execution_count": 12,
   "metadata": {
    "ExecuteTime": {
     "end_time": "2018-06-03T18:43:30.823366Z",
     "start_time": "2018-06-03T18:43:30.819680Z"
    }
   },
   "outputs": [
    {
     "data": {
      "text/plain": [
       "1745"
      ]
     },
     "execution_count": 12,
     "metadata": {},
     "output_type": "execute_result"
    }
   ],
   "source": [
    "len(book_titles)"
   ]
  },
  {
   "cell_type": "code",
   "execution_count": 13,
   "metadata": {
    "ExecuteTime": {
     "end_time": "2018-06-03T18:43:31.032264Z",
     "start_time": "2018-06-03T18:43:31.028220Z"
    }
   },
   "outputs": [
    {
     "data": {
      "text/plain": [
       "[\"Alice's Adventures in Wonderland\",\n",
       " 'Through the Looking-Glass',\n",
       " 'The Hunting of the Snark: An Agony in Eight Fits',\n",
       " 'Moby Dick',\n",
       " 'The Song of Hiawatha']"
      ]
     },
     "execution_count": 13,
     "metadata": {},
     "output_type": "execute_result"
    }
   ],
   "source": [
    "book_titles[0:5]"
   ]
  },
  {
   "cell_type": "code",
   "execution_count": 14,
   "metadata": {
    "ExecuteTime": {
     "end_time": "2018-06-03T18:54:00.928380Z",
     "start_time": "2018-06-03T18:43:31.523898Z"
    }
   },
   "outputs": [],
   "source": [
    "# make a list of complete book text for each book\n",
    "\n",
    "concat_books_list=[]\n",
    "for book in books['title'].unique():\n",
    "    concat_books_list.append((' ').join(books.loc[books['title'] == book]['text']))"
   ]
  },
  {
   "cell_type": "code",
   "execution_count": 15,
   "metadata": {
    "ExecuteTime": {
     "end_time": "2018-06-03T18:54:00.971920Z",
     "start_time": "2018-06-03T18:54:00.930434Z"
    }
   },
   "outputs": [
    {
     "data": {
      "text/plain": [
       "1756"
      ]
     },
     "execution_count": 15,
     "metadata": {},
     "output_type": "execute_result"
    }
   ],
   "source": [
    "len(books['gutenberg_id'].unique())"
   ]
  },
  {
   "cell_type": "code",
   "execution_count": 16,
   "metadata": {
    "ExecuteTime": {
     "end_time": "2018-06-03T18:54:00.976618Z",
     "start_time": "2018-06-03T18:54:00.973531Z"
    }
   },
   "outputs": [
    {
     "data": {
      "text/plain": [
       "\"The War of the Worlds  by H. G. Wells [1898]        But who shall dwell in these worlds if they be      inhabited? .  .  .  Are we or they Lords of the      World? .  .  .  And how are all things made for man?--           KEPLER (quoted in The Anatomy of Melancholy)    BOOK ONE  THE COMING OF THE MARTIANS    CHAPTER ONE  THE EVE OF THE WAR   No one would have believed in the last years of the nineteenth century that this world was being watched keenly and closely by intelligences greater than man's and yet as mortal as his own; that as men busied themselves about their various concerns they were scrutinised and studied, perhaps almost as narrowly as a man with a microscope might scrutinise the transient creatures that swarm and multiply in a drop of water.  With infinite complacency men went to and fro over this globe about their little affairs, serene in their assurance of their empire over matter.  It is possible that the infusoria under the microscope do the same.  No one gave a tho\""
      ]
     },
     "execution_count": 16,
     "metadata": {},
     "output_type": "execute_result"
    }
   ],
   "source": [
    "concat_books_list[6][:1000]"
   ]
  },
  {
   "cell_type": "code",
   "execution_count": 17,
   "metadata": {
    "ExecuteTime": {
     "end_time": "2018-06-03T18:54:01.290680Z",
     "start_time": "2018-06-03T18:54:00.978981Z"
    }
   },
   "outputs": [],
   "source": [
    "book_author = books['author'].unique()\n",
    "book_author_list = list(book_author)"
   ]
  },
  {
   "cell_type": "code",
   "execution_count": 18,
   "metadata": {
    "ExecuteTime": {
     "end_time": "2018-06-03T18:54:01.296651Z",
     "start_time": "2018-06-03T18:54:01.292575Z"
    }
   },
   "outputs": [
    {
     "data": {
      "text/plain": [
       "'Melville, Herman'"
      ]
     },
     "execution_count": 18,
     "metadata": {},
     "output_type": "execute_result"
    }
   ],
   "source": [
    "book_author_list[1]"
   ]
  },
  {
   "cell_type": "code",
   "execution_count": 19,
   "metadata": {
    "ExecuteTime": {
     "end_time": "2018-06-03T18:54:01.466243Z",
     "start_time": "2018-06-03T18:54:01.299105Z"
    }
   },
   "outputs": [],
   "source": [
    "concat_df = books[['gutenberg_id','author','title']]"
   ]
  },
  {
   "cell_type": "code",
   "execution_count": 20,
   "metadata": {
    "ExecuteTime": {
     "end_time": "2018-06-03T18:54:02.462125Z",
     "start_time": "2018-06-03T18:54:01.468083Z"
    }
   },
   "outputs": [
    {
     "data": {
      "text/plain": [
       "1756"
      ]
     },
     "execution_count": 20,
     "metadata": {},
     "output_type": "execute_result"
    }
   ],
   "source": [
    "len(concat_df.drop_duplicates())"
   ]
  },
  {
   "cell_type": "code",
   "execution_count": 21,
   "metadata": {
    "ExecuteTime": {
     "end_time": "2018-06-03T18:54:02.469662Z",
     "start_time": "2018-06-03T18:54:02.464629Z"
    }
   },
   "outputs": [
    {
     "data": {
      "text/plain": [
       "1745"
      ]
     },
     "execution_count": 21,
     "metadata": {},
     "output_type": "execute_result"
    }
   ],
   "source": [
    "len(book_titles)"
   ]
  },
  {
   "cell_type": "markdown",
   "metadata": {},
   "source": [
    "#### These should be the same number, but they're not, indicating that I've got some duplicate book titles."
   ]
  },
  {
   "cell_type": "code",
   "execution_count": 22,
   "metadata": {
    "ExecuteTime": {
     "end_time": "2018-06-03T18:54:11.504290Z",
     "start_time": "2018-06-03T18:54:02.471260Z"
    }
   },
   "outputs": [],
   "source": [
    "# make a list of complete book text for each book\n",
    "\n",
    "concat_books_list=[]\n",
    "for book in books['gutenberg_id'].unique():\n",
    "    concat_books_list.append((' ').join(books.loc[books['gutenberg_id'] == book]['text']))"
   ]
  },
  {
   "cell_type": "code",
   "execution_count": 23,
   "metadata": {
    "ExecuteTime": {
     "end_time": "2018-06-03T18:54:11.509758Z",
     "start_time": "2018-06-03T18:54:11.506000Z"
    }
   },
   "outputs": [
    {
     "data": {
      "text/plain": [
       "\"The War of the Worlds  by H. G. Wells [1898]        But who shall dwell in these worlds if they be      inhabited? .  .  .  Are we or they Lords of the      World? .  .  .  And how are all things made for man?--           KEPLER (quoted in The Anatomy of Melancholy)    BOOK ONE  THE COMING OF THE MARTIANS    CHAPTER ONE  THE EVE OF THE WAR   No one would have believed in the last years of the nineteenth century that this world was being watched keenly and closely by intelligences greater than man's and yet as mortal as his own; that as men busied themselves about their various concerns they were scrutinised and studied, perhaps almost as narrowly as a man with a microscope might scrutinise the transient creatures that swarm and multiply in a drop of water.  With infinite complacency men went to and fro over this globe about their little affairs, serene in their assurance of their empire over matter.  It is possible that the infusoria under the microscope do the same.  No one gave a tho\""
      ]
     },
     "execution_count": 23,
     "metadata": {},
     "output_type": "execute_result"
    }
   ],
   "source": [
    "concat_books_list[6][:1000]"
   ]
  },
  {
   "cell_type": "code",
   "execution_count": 24,
   "metadata": {
    "ExecuteTime": {
     "end_time": "2018-06-03T18:54:12.722686Z",
     "start_time": "2018-06-03T18:54:11.511647Z"
    }
   },
   "outputs": [
    {
     "data": {
      "text/html": [
       "<div>\n",
       "<style scoped>\n",
       "    .dataframe tbody tr th:only-of-type {\n",
       "        vertical-align: middle;\n",
       "    }\n",
       "\n",
       "    .dataframe tbody tr th {\n",
       "        vertical-align: top;\n",
       "    }\n",
       "\n",
       "    .dataframe thead th {\n",
       "        text-align: right;\n",
       "    }\n",
       "</style>\n",
       "<table border=\"1\" class=\"dataframe\">\n",
       "  <thead>\n",
       "    <tr style=\"text-align: right;\">\n",
       "      <th></th>\n",
       "      <th>gutenberg_id</th>\n",
       "      <th>author</th>\n",
       "      <th>title</th>\n",
       "    </tr>\n",
       "  </thead>\n",
       "  <tbody>\n",
       "    <tr>\n",
       "      <th>0</th>\n",
       "      <td>11</td>\n",
       "      <td>Carroll, Lewis</td>\n",
       "      <td>Alice's Adventures in Wonderland</td>\n",
       "    </tr>\n",
       "    <tr>\n",
       "      <th>3339</th>\n",
       "      <td>12</td>\n",
       "      <td>Carroll, Lewis</td>\n",
       "      <td>Through the Looking-Glass</td>\n",
       "    </tr>\n",
       "    <tr>\n",
       "      <th>7246</th>\n",
       "      <td>13</td>\n",
       "      <td>Carroll, Lewis</td>\n",
       "      <td>The Hunting of the Snark: An Agony in Eight Fits</td>\n",
       "    </tr>\n",
       "    <tr>\n",
       "      <th>8086</th>\n",
       "      <td>15</td>\n",
       "      <td>Melville, Herman</td>\n",
       "      <td>Moby Dick</td>\n",
       "    </tr>\n",
       "    <tr>\n",
       "      <th>8248</th>\n",
       "      <td>19</td>\n",
       "      <td>Longfellow, Henry Wadsworth</td>\n",
       "      <td>The Song of Hiawatha</td>\n",
       "    </tr>\n",
       "    <tr>\n",
       "      <th>14663</th>\n",
       "      <td>35</td>\n",
       "      <td>Wells, H. G. (Herbert George)</td>\n",
       "      <td>The Time Machine</td>\n",
       "    </tr>\n",
       "    <tr>\n",
       "      <th>17884</th>\n",
       "      <td>36</td>\n",
       "      <td>Wells, H. G. (Herbert George)</td>\n",
       "      <td>The War of the Worlds</td>\n",
       "    </tr>\n",
       "  </tbody>\n",
       "</table>\n",
       "</div>"
      ],
      "text/plain": [
       "       gutenberg_id                         author  \\\n",
       "0                11                 Carroll, Lewis   \n",
       "3339             12                 Carroll, Lewis   \n",
       "7246             13                 Carroll, Lewis   \n",
       "8086             15               Melville, Herman   \n",
       "8248             19    Longfellow, Henry Wadsworth   \n",
       "14663            35  Wells, H. G. (Herbert George)   \n",
       "17884            36  Wells, H. G. (Herbert George)   \n",
       "\n",
       "                                                  title  \n",
       "0                      Alice's Adventures in Wonderland  \n",
       "3339                          Through the Looking-Glass  \n",
       "7246   The Hunting of the Snark: An Agony in Eight Fits  \n",
       "8086                                          Moby Dick  \n",
       "8248                               The Song of Hiawatha  \n",
       "14663                                  The Time Machine  \n",
       "17884                             The War of the Worlds  "
      ]
     },
     "execution_count": 24,
     "metadata": {},
     "output_type": "execute_result"
    }
   ],
   "source": [
    "concat_df = books[['gutenberg_id','author','title']]\n",
    "concat_df = concat_df.drop_duplicates()\n",
    "concat_df.head(7)"
   ]
  },
  {
   "cell_type": "code",
   "execution_count": 25,
   "metadata": {
    "ExecuteTime": {
     "end_time": "2018-06-03T18:54:12.764036Z",
     "start_time": "2018-06-03T18:54:12.724410Z"
    }
   },
   "outputs": [
    {
     "data": {
      "text/html": [
       "<div>\n",
       "<style scoped>\n",
       "    .dataframe tbody tr th:only-of-type {\n",
       "        vertical-align: middle;\n",
       "    }\n",
       "\n",
       "    .dataframe tbody tr th {\n",
       "        vertical-align: top;\n",
       "    }\n",
       "\n",
       "    .dataframe thead th {\n",
       "        text-align: right;\n",
       "    }\n",
       "</style>\n",
       "<table border=\"1\" class=\"dataframe\">\n",
       "  <thead>\n",
       "    <tr style=\"text-align: right;\">\n",
       "      <th></th>\n",
       "      <th>gutenberg_id</th>\n",
       "      <th>author</th>\n",
       "      <th>title</th>\n",
       "      <th>text</th>\n",
       "    </tr>\n",
       "  </thead>\n",
       "  <tbody>\n",
       "    <tr>\n",
       "      <th>0</th>\n",
       "      <td>11</td>\n",
       "      <td>Carroll, Lewis</td>\n",
       "      <td>Alice's Adventures in Wonderland</td>\n",
       "      <td>ALICE'S ADVENTURES IN WONDERLAND  Lewis Carrol...</td>\n",
       "    </tr>\n",
       "    <tr>\n",
       "      <th>3339</th>\n",
       "      <td>12</td>\n",
       "      <td>Carroll, Lewis</td>\n",
       "      <td>Through the Looking-Glass</td>\n",
       "      <td>THROUGH THE LOOKING-GLASS  By Lewis Carroll   ...</td>\n",
       "    </tr>\n",
       "    <tr>\n",
       "      <th>7246</th>\n",
       "      <td>13</td>\n",
       "      <td>Carroll, Lewis</td>\n",
       "      <td>The Hunting of the Snark: An Agony in Eight Fits</td>\n",
       "      <td>THE HUNTING OF THE SNARK  ...</td>\n",
       "    </tr>\n",
       "    <tr>\n",
       "      <th>8086</th>\n",
       "      <td>15</td>\n",
       "      <td>Melville, Herman</td>\n",
       "      <td>Moby Dick</td>\n",
       "      <td>The reader will find a complete text and html ...</td>\n",
       "    </tr>\n",
       "    <tr>\n",
       "      <th>8248</th>\n",
       "      <td>19</td>\n",
       "      <td>Longfellow, Henry Wadsworth</td>\n",
       "      <td>The Song of Hiawatha</td>\n",
       "      <td>THE SONG OF HIAWATHA              ...</td>\n",
       "    </tr>\n",
       "    <tr>\n",
       "      <th>14663</th>\n",
       "      <td>35</td>\n",
       "      <td>Wells, H. G. (Herbert George)</td>\n",
       "      <td>The Time Machine</td>\n",
       "      <td>The Time Machine, by H. G. Wells [1898]     I ...</td>\n",
       "    </tr>\n",
       "    <tr>\n",
       "      <th>17884</th>\n",
       "      <td>36</td>\n",
       "      <td>Wells, H. G. (Herbert George)</td>\n",
       "      <td>The War of the Worlds</td>\n",
       "      <td>The War of the Worlds  by H. G. Wells [1898]  ...</td>\n",
       "    </tr>\n",
       "  </tbody>\n",
       "</table>\n",
       "</div>"
      ],
      "text/plain": [
       "       gutenberg_id                         author  \\\n",
       "0                11                 Carroll, Lewis   \n",
       "3339             12                 Carroll, Lewis   \n",
       "7246             13                 Carroll, Lewis   \n",
       "8086             15               Melville, Herman   \n",
       "8248             19    Longfellow, Henry Wadsworth   \n",
       "14663            35  Wells, H. G. (Herbert George)   \n",
       "17884            36  Wells, H. G. (Herbert George)   \n",
       "\n",
       "                                                  title  \\\n",
       "0                      Alice's Adventures in Wonderland   \n",
       "3339                          Through the Looking-Glass   \n",
       "7246   The Hunting of the Snark: An Agony in Eight Fits   \n",
       "8086                                          Moby Dick   \n",
       "8248                               The Song of Hiawatha   \n",
       "14663                                  The Time Machine   \n",
       "17884                             The War of the Worlds   \n",
       "\n",
       "                                                    text  \n",
       "0      ALICE'S ADVENTURES IN WONDERLAND  Lewis Carrol...  \n",
       "3339   THROUGH THE LOOKING-GLASS  By Lewis Carroll   ...  \n",
       "7246                       THE HUNTING OF THE SNARK  ...  \n",
       "8086   The reader will find a complete text and html ...  \n",
       "8248               THE SONG OF HIAWATHA              ...  \n",
       "14663  The Time Machine, by H. G. Wells [1898]     I ...  \n",
       "17884  The War of the Worlds  by H. G. Wells [1898]  ...  "
      ]
     },
     "execution_count": 25,
     "metadata": {},
     "output_type": "execute_result"
    }
   ],
   "source": [
    "concat_df['text'] = concat_books_list\n",
    "concat_df.head(7)"
   ]
  },
  {
   "cell_type": "code",
   "execution_count": 26,
   "metadata": {
    "ExecuteTime": {
     "end_time": "2018-06-03T18:55:35.046127Z",
     "start_time": "2018-06-03T18:55:33.451450Z"
    }
   },
   "outputs": [],
   "source": [
    "import pickle\n",
    "\n",
    "pickler = open(\"R_books_df.pkl\",\"wb\")\n",
    "pickle.dump(concat_df, pickler)\n",
    "pickler.close()\n",
    "\n",
    "pickler = open(\"R_book_authors_list.pkl\",\"wb\")\n",
    "pickle.dump(book_author_list, pickler)\n",
    "pickler.close()\n",
    "\n",
    "pickler = open(\"R_books_list.pkl\",\"wb\")\n",
    "pickle.dump(concat_books_list, pickler)\n",
    "pickler.close()\n",
    "\n",
    "pickler = open(\"R_book_titles_list.pkl\",\"wb\")\n",
    "pickle.dump(book_titles, pickler)\n",
    "pickler.close()"
   ]
  },
  {
   "cell_type": "code",
   "execution_count": null,
   "metadata": {},
   "outputs": [],
   "source": []
  }
 ],
 "metadata": {
  "anaconda-cloud": {},
  "kernelspec": {
   "display_name": "Python 3",
   "language": "python",
   "name": "python3"
  },
  "language_info": {
   "codemirror_mode": {
    "name": "ipython",
    "version": 3
   },
   "file_extension": ".py",
   "mimetype": "text/x-python",
   "name": "python",
   "nbconvert_exporter": "python",
   "pygments_lexer": "ipython3",
   "version": "3.6.5"
  },
  "toc": {
   "nav_menu": {
    "height": "123px",
    "width": "252px"
   },
   "number_sections": true,
   "sideBar": true,
   "skip_h1_title": false,
   "toc_cell": false,
   "toc_position": {},
   "toc_section_display": "block",
   "toc_window_display": false
  },
  "varInspector": {
   "cols": {
    "lenName": 16,
    "lenType": 16,
    "lenVar": 40
   },
   "kernels_config": {
    "python": {
     "delete_cmd_postfix": "",
     "delete_cmd_prefix": "del ",
     "library": "var_list.py",
     "varRefreshCmd": "print(var_dic_list())"
    },
    "r": {
     "delete_cmd_postfix": ") ",
     "delete_cmd_prefix": "rm(",
     "library": "var_list.r",
     "varRefreshCmd": "cat(var_dic_list()) "
    }
   },
   "types_to_exclude": [
    "module",
    "function",
    "builtin_function_or_method",
    "instance",
    "_Feature"
   ],
   "window_display": false
  }
 },
 "nbformat": 4,
 "nbformat_minor": 2
}
